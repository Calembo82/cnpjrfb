{
 "cells": [
  {
   "cell_type": "markdown",
   "id": "51af289a",
   "metadata": {},
   "source": [
    "# Base de Empresas Minas Gerais (CNPJ)"
   ]
  },
  {
   "cell_type": "code",
   "execution_count": 1,
   "id": "e3725922",
   "metadata": {},
   "outputs": [],
   "source": [
    "import pandas as pd #Ativar pacotes\n",
    "import matplotlib.pyplot as plt\n",
    "import numpy as np\n",
    "import seaborn as sns\n",
    "%matplotlib inline"
   ]
  },
  {
   "cell_type": "markdown",
   "id": "dd0c4c05",
   "metadata": {},
   "source": [
    "## Importar e filtrar arquivo dos Estabelecimentos"
   ]
  },
  {
   "cell_type": "markdown",
   "id": "9253b1aa",
   "metadata": {},
   "source": [
    "### Arquivo 1"
   ]
  },
  {
   "cell_type": "code",
   "execution_count": 2,
   "id": "fc19a482",
   "metadata": {},
   "outputs": [],
   "source": [
    "Estab1 = pd.read_csv (\"K3241.K03200Y0.D11009.ESTABELE.CSV\",\n",
    "                         header = None, sep=\";\", encoding='ISO-8859-1', dtype='unicode') #Importar o arquivo"
   ]
  },
  {
   "cell_type": "code",
   "execution_count": 3,
   "id": "5d8fe7ca",
   "metadata": {},
   "outputs": [],
   "source": [
    "Estab1MG = Estab1.loc[Estab1[19]==\"MG\"] #Filtro (MG - 19)"
   ]
  },
  {
   "cell_type": "code",
   "execution_count": 4,
   "id": "ba342632",
   "metadata": {},
   "outputs": [],
   "source": [
    "del Estab1"
   ]
  },
  {
   "cell_type": "markdown",
   "id": "fb85232e",
   "metadata": {},
   "source": [
    "### Arquivo 2"
   ]
  },
  {
   "cell_type": "code",
   "execution_count": 5,
   "id": "47ca593e",
   "metadata": {},
   "outputs": [],
   "source": [
    "Estab2 = pd.read_csv (\"K3241.K03200Y1.D11009.ESTABELE.CSV\",\n",
    "                         header = None, sep=\";\", encoding='ISO-8859-1', dtype='unicode') #Importar o arquivo"
   ]
  },
  {
   "cell_type": "code",
   "execution_count": 6,
   "id": "7041aa27",
   "metadata": {},
   "outputs": [],
   "source": [
    "Estab2MG = Estab2.loc[Estab2[19]==\"MG\"] #Filtro (MG - 19)"
   ]
  },
  {
   "cell_type": "code",
   "execution_count": 7,
   "id": "20406a61",
   "metadata": {},
   "outputs": [],
   "source": [
    "del Estab2"
   ]
  },
  {
   "cell_type": "markdown",
   "id": "b672cb65",
   "metadata": {},
   "source": [
    "### Arquivo 3"
   ]
  },
  {
   "cell_type": "code",
   "execution_count": 8,
   "id": "1f606266",
   "metadata": {},
   "outputs": [],
   "source": [
    "Estab3 = pd.read_csv (\"K3241.K03200Y2.D11009.ESTABELE.CSV\",\n",
    "                         header = None, sep=\";\", encoding='ISO-8859-1', dtype='unicode') #Importar o arquivo"
   ]
  },
  {
   "cell_type": "code",
   "execution_count": 9,
   "id": "e2967a03",
   "metadata": {},
   "outputs": [],
   "source": [
    "Estab3MG = Estab3.loc[Estab3[19]==\"MG\"] #Filtro (MG - 19)"
   ]
  },
  {
   "cell_type": "code",
   "execution_count": 10,
   "id": "5ca8d776",
   "metadata": {},
   "outputs": [],
   "source": [
    "del Estab3"
   ]
  },
  {
   "cell_type": "markdown",
   "id": "216114b4",
   "metadata": {},
   "source": [
    "### Arquivo 4"
   ]
  },
  {
   "cell_type": "code",
   "execution_count": 11,
   "id": "358498db",
   "metadata": {},
   "outputs": [],
   "source": [
    "Estab4 = pd.read_csv (\"K3241.K03200Y3.D11009.ESTABELE.CSV\",\n",
    "                         header = None, sep=\";\", encoding='ISO-8859-1', dtype='unicode') #Importar o arquivo"
   ]
  },
  {
   "cell_type": "code",
   "execution_count": 12,
   "id": "07ad85ec",
   "metadata": {},
   "outputs": [],
   "source": [
    "Estab4MG = Estab4.loc[Estab4[19]==\"MG\"] #Filtro (MG - 19)"
   ]
  },
  {
   "cell_type": "code",
   "execution_count": 13,
   "id": "80fafefb",
   "metadata": {},
   "outputs": [],
   "source": [
    "del Estab4"
   ]
  },
  {
   "cell_type": "markdown",
   "id": "432d8cb6",
   "metadata": {},
   "source": [
    "### Arquivo 5"
   ]
  },
  {
   "cell_type": "code",
   "execution_count": 14,
   "id": "69fe81b8",
   "metadata": {},
   "outputs": [],
   "source": [
    "Estab5 = pd.read_csv (\"K3241.K03200Y4.D11009.ESTABELE.CSV\",\n",
    "                         header = None, sep=\";\", encoding='ISO-8859-1', dtype='unicode') #Importar o arquivo"
   ]
  },
  {
   "cell_type": "code",
   "execution_count": 15,
   "id": "abd15062",
   "metadata": {},
   "outputs": [],
   "source": [
    "Estab5MG = Estab5.loc[Estab5[19]==\"MG\"] #Filtro (MG - 19)"
   ]
  },
  {
   "cell_type": "code",
   "execution_count": 16,
   "id": "3bc316c6",
   "metadata": {},
   "outputs": [],
   "source": [
    "del Estab5"
   ]
  },
  {
   "cell_type": "markdown",
   "id": "073eaaec",
   "metadata": {},
   "source": [
    "### Arquivo 6"
   ]
  },
  {
   "cell_type": "code",
   "execution_count": 17,
   "id": "c4c8b393",
   "metadata": {},
   "outputs": [],
   "source": [
    "Estab6 = pd.read_csv (\"K3241.K03200Y5.D11009.ESTABELE.CSV\",\n",
    "                         header = None, sep=\";\", encoding='ISO-8859-1', dtype='unicode') #Importar o arquivo"
   ]
  },
  {
   "cell_type": "code",
   "execution_count": 22,
   "id": "042c38bb",
   "metadata": {},
   "outputs": [],
   "source": [
    "Estab6MG = Estab6.loc[Estab6[19]==\"MG\"] #Filtro (MG - 19)"
   ]
  },
  {
   "cell_type": "code",
   "execution_count": 27,
   "id": "aa1a3217",
   "metadata": {},
   "outputs": [],
   "source": [
    "del Estab6"
   ]
  },
  {
   "cell_type": "markdown",
   "id": "391cbf71",
   "metadata": {},
   "source": [
    "### Arquivo 7"
   ]
  },
  {
   "cell_type": "code",
   "execution_count": 18,
   "id": "3bb4163e",
   "metadata": {},
   "outputs": [],
   "source": [
    "Estab7 = pd.read_csv (\"K3241.K03200Y6.D11009.ESTABELE.CSV\",\n",
    "                         header = None, sep=\";\", encoding='ISO-8859-1', dtype='unicode') #Importar o arquivo"
   ]
  },
  {
   "cell_type": "code",
   "execution_count": 23,
   "id": "fa9f90ee",
   "metadata": {},
   "outputs": [],
   "source": [
    "Estab7MG = Estab7.loc[Estab7[19]==\"MG\"] #Filtro (MG - 19)"
   ]
  },
  {
   "cell_type": "code",
   "execution_count": 28,
   "id": "061496f3",
   "metadata": {},
   "outputs": [],
   "source": [
    "del Estab7"
   ]
  },
  {
   "cell_type": "markdown",
   "id": "a8d87fd5",
   "metadata": {},
   "source": [
    "### Arquivo 8"
   ]
  },
  {
   "cell_type": "code",
   "execution_count": 19,
   "id": "d4a0d919",
   "metadata": {},
   "outputs": [],
   "source": [
    "Estab8 = pd.read_csv (\"K3241.K03200Y7.D11009.ESTABELE.CSV\",\n",
    "                         header = None, sep=\";\", encoding='ISO-8859-1', dtype='unicode') #Importar o arquivo"
   ]
  },
  {
   "cell_type": "code",
   "execution_count": 24,
   "id": "7fe0aa71",
   "metadata": {},
   "outputs": [],
   "source": [
    "Estab8MG = Estab8.loc[Estab8[19]==\"MG\"] #Filtro (MG - 19)"
   ]
  },
  {
   "cell_type": "code",
   "execution_count": 29,
   "id": "3eaebb52",
   "metadata": {},
   "outputs": [],
   "source": [
    "del Estab8"
   ]
  },
  {
   "cell_type": "markdown",
   "id": "335fa5ec",
   "metadata": {},
   "source": [
    "### Arquivo 9"
   ]
  },
  {
   "cell_type": "code",
   "execution_count": 20,
   "id": "5e2d3c0e",
   "metadata": {},
   "outputs": [],
   "source": [
    "Estab9 = pd.read_csv (\"K3241.K03200Y8.D11009.ESTABELE.CSV\",\n",
    "                         header = None, sep=\";\", encoding='ISO-8859-1', dtype='unicode') #Importar o arquivo"
   ]
  },
  {
   "cell_type": "code",
   "execution_count": 25,
   "id": "13bc26c4",
   "metadata": {},
   "outputs": [],
   "source": [
    "Estab9MG = Estab9.loc[Estab9[19]==\"MG\"] #Filtro (MG - 19)"
   ]
  },
  {
   "cell_type": "code",
   "execution_count": 30,
   "id": "24a46c8a",
   "metadata": {},
   "outputs": [],
   "source": [
    "del Estab9"
   ]
  },
  {
   "cell_type": "markdown",
   "id": "75becfdd",
   "metadata": {},
   "source": [
    "### Arquivo 10"
   ]
  },
  {
   "cell_type": "code",
   "execution_count": 21,
   "id": "119eaaf7",
   "metadata": {},
   "outputs": [],
   "source": [
    "Estab10 = pd.read_csv (\"K3241.K03200Y9.D11009.ESTABELE.CSV\",\n",
    "                         header = None, sep=\";\", encoding='ISO-8859-1', dtype='unicode') #Importar o arquivo"
   ]
  },
  {
   "cell_type": "code",
   "execution_count": 26,
   "id": "acf2a685",
   "metadata": {},
   "outputs": [],
   "source": [
    "Estab10MG = Estab10.loc[Estab10[19]==\"MG\"] #Filtro (MG - 19)"
   ]
  },
  {
   "cell_type": "code",
   "execution_count": 31,
   "id": "afb07fc7",
   "metadata": {},
   "outputs": [],
   "source": [
    "del Estab10"
   ]
  },
  {
   "cell_type": "markdown",
   "id": "e142de35",
   "metadata": {},
   "source": [
    "## Juntando os arquivos filtrados e gerando CSV dos estabelecimentos de MG"
   ]
  },
  {
   "cell_type": "code",
   "execution_count": 32,
   "id": "a0ccde3d",
   "metadata": {},
   "outputs": [],
   "source": [
    "EstabMG = pd.concat([Estab1MG,Estab2MG, Estab3MG, Estab4MG, Estab5MG, Estab6MG, Estab7MG, Estab8MG, Estab9MG, Estab10MG])"
   ]
  },
  {
   "cell_type": "code",
   "execution_count": 33,
   "id": "9b2d3ea8",
   "metadata": {},
   "outputs": [],
   "source": [
    "EstabMG.columns = ['CNPJB', 'CNPJORD', 'CNPJDV', 'MATFIL', 'FANTA', 'SITCAD', \n",
    "                   'DATASITCAD', 'MOTSITCAD', 'CIDEXT', 'PAIS', 'DATAINICIO', \n",
    "                   'CNAEP', 'CNAESEC', 'TLOGRAD', 'LOGRADOURO', 'NUMERO', \n",
    "                   'COMPLEMENTO', 'BAIRRO', 'CEP', 'UF', 'MUNICÍPIO', 'DDD1', \n",
    "                   'TEL1', 'DDD', 'TEL2', 'DDDFAX', 'FAX', 'E-MAIL', 'SITESPEC', 'DATASITESPEC']"
   ]
  },
  {
   "cell_type": "code",
   "execution_count": 34,
   "id": "52f8c081",
   "metadata": {},
   "outputs": [],
   "source": [
    "EstabMG.to_csv('EstabelecimentosMG.csv', index=True, sep=\";\")"
   ]
  },
  {
   "cell_type": "code",
   "execution_count": 35,
   "id": "10391602",
   "metadata": {},
   "outputs": [
    {
     "data": {
      "text/html": [
       "<div>\n",
       "<style scoped>\n",
       "    .dataframe tbody tr th:only-of-type {\n",
       "        vertical-align: middle;\n",
       "    }\n",
       "\n",
       "    .dataframe tbody tr th {\n",
       "        vertical-align: top;\n",
       "    }\n",
       "\n",
       "    .dataframe thead th {\n",
       "        text-align: right;\n",
       "    }\n",
       "</style>\n",
       "<table border=\"1\" class=\"dataframe\">\n",
       "  <thead>\n",
       "    <tr style=\"text-align: right;\">\n",
       "      <th></th>\n",
       "      <th>CNPJB</th>\n",
       "      <th>CNPJORD</th>\n",
       "      <th>CNPJDV</th>\n",
       "      <th>MATFIL</th>\n",
       "      <th>FANTA</th>\n",
       "      <th>SITCAD</th>\n",
       "      <th>DATASITCAD</th>\n",
       "      <th>MOTSITCAD</th>\n",
       "      <th>CIDEXT</th>\n",
       "      <th>PAIS</th>\n",
       "      <th>...</th>\n",
       "      <th>MUNICÍPIO</th>\n",
       "      <th>DDD1</th>\n",
       "      <th>TEL1</th>\n",
       "      <th>DDD</th>\n",
       "      <th>TEL2</th>\n",
       "      <th>DDDFAX</th>\n",
       "      <th>FAX</th>\n",
       "      <th>E-MAIL</th>\n",
       "      <th>SITESPEC</th>\n",
       "      <th>DATASITESPEC</th>\n",
       "    </tr>\n",
       "  </thead>\n",
       "  <tbody>\n",
       "    <tr>\n",
       "      <th>7</th>\n",
       "      <td>18678451</td>\n",
       "      <td>0001</td>\n",
       "      <td>48</td>\n",
       "      <td>1</td>\n",
       "      <td>OLIVER TREINAMENTOS E MANUTENCOES</td>\n",
       "      <td>08</td>\n",
       "      <td>20180201</td>\n",
       "      <td>67</td>\n",
       "      <td>NaN</td>\n",
       "      <td>NaN</td>\n",
       "      <td>...</td>\n",
       "      <td>4123</td>\n",
       "      <td>31</td>\n",
       "      <td>99191901</td>\n",
       "      <td>NaN</td>\n",
       "      <td>NaN</td>\n",
       "      <td>NaN</td>\n",
       "      <td>NaN</td>\n",
       "      <td>NaN</td>\n",
       "      <td>NaN</td>\n",
       "      <td>NaN</td>\n",
       "    </tr>\n",
       "    <tr>\n",
       "      <th>15</th>\n",
       "      <td>18678539</td>\n",
       "      <td>0001</td>\n",
       "      <td>60</td>\n",
       "      <td>1</td>\n",
       "      <td>NaN</td>\n",
       "      <td>02</td>\n",
       "      <td>20130614</td>\n",
       "      <td>00</td>\n",
       "      <td>NaN</td>\n",
       "      <td>NaN</td>\n",
       "      <td>...</td>\n",
       "      <td>5401</td>\n",
       "      <td>34</td>\n",
       "      <td>33162277</td>\n",
       "      <td>NaN</td>\n",
       "      <td>NaN</td>\n",
       "      <td>NaN</td>\n",
       "      <td>NaN</td>\n",
       "      <td>CND.CONTAS@NETSITE.COM.BR</td>\n",
       "      <td>NaN</td>\n",
       "      <td>NaN</td>\n",
       "    </tr>\n",
       "    <tr>\n",
       "      <th>32</th>\n",
       "      <td>18678732</td>\n",
       "      <td>0001</td>\n",
       "      <td>09</td>\n",
       "      <td>1</td>\n",
       "      <td>PSA COMERCIO DE ALIMENTOS</td>\n",
       "      <td>08</td>\n",
       "      <td>20141201</td>\n",
       "      <td>01</td>\n",
       "      <td>NaN</td>\n",
       "      <td>NaN</td>\n",
       "      <td>...</td>\n",
       "      <td>4123</td>\n",
       "      <td>31</td>\n",
       "      <td>94499066</td>\n",
       "      <td>NaN</td>\n",
       "      <td>NaN</td>\n",
       "      <td>NaN</td>\n",
       "      <td>NaN</td>\n",
       "      <td>NaN</td>\n",
       "      <td>NaN</td>\n",
       "      <td>NaN</td>\n",
       "    </tr>\n",
       "    <tr>\n",
       "      <th>43</th>\n",
       "      <td>18678859</td>\n",
       "      <td>0001</td>\n",
       "      <td>10</td>\n",
       "      <td>1</td>\n",
       "      <td>COSTA FRANCA COMERCIO ME</td>\n",
       "      <td>08</td>\n",
       "      <td>20131017</td>\n",
       "      <td>01</td>\n",
       "      <td>NaN</td>\n",
       "      <td>NaN</td>\n",
       "      <td>...</td>\n",
       "      <td>5343</td>\n",
       "      <td>31</td>\n",
       "      <td>92975186</td>\n",
       "      <td>NaN</td>\n",
       "      <td>NaN</td>\n",
       "      <td>NaN</td>\n",
       "      <td>NaN</td>\n",
       "      <td>anaclaudiafranca@hotmail.com</td>\n",
       "      <td>NaN</td>\n",
       "      <td>NaN</td>\n",
       "    </tr>\n",
       "    <tr>\n",
       "      <th>57</th>\n",
       "      <td>18141555</td>\n",
       "      <td>0001</td>\n",
       "      <td>19</td>\n",
       "      <td>1</td>\n",
       "      <td>ITU ASSADOS</td>\n",
       "      <td>02</td>\n",
       "      <td>20130520</td>\n",
       "      <td>00</td>\n",
       "      <td>NaN</td>\n",
       "      <td>NaN</td>\n",
       "      <td>...</td>\n",
       "      <td>4687</td>\n",
       "      <td>34</td>\n",
       "      <td>34110695</td>\n",
       "      <td>NaN</td>\n",
       "      <td>NaN</td>\n",
       "      <td>NaN</td>\n",
       "      <td>NaN</td>\n",
       "      <td>contajuridico@netsite.oom.br</td>\n",
       "      <td>NaN</td>\n",
       "      <td>NaN</td>\n",
       "    </tr>\n",
       "    <tr>\n",
       "      <th>...</th>\n",
       "      <td>...</td>\n",
       "      <td>...</td>\n",
       "      <td>...</td>\n",
       "      <td>...</td>\n",
       "      <td>...</td>\n",
       "      <td>...</td>\n",
       "      <td>...</td>\n",
       "      <td>...</td>\n",
       "      <td>...</td>\n",
       "      <td>...</td>\n",
       "      <td>...</td>\n",
       "      <td>...</td>\n",
       "      <td>...</td>\n",
       "      <td>...</td>\n",
       "      <td>...</td>\n",
       "      <td>...</td>\n",
       "      <td>...</td>\n",
       "      <td>...</td>\n",
       "      <td>...</td>\n",
       "      <td>...</td>\n",
       "      <td>...</td>\n",
       "    </tr>\n",
       "    <tr>\n",
       "      <th>4753392</th>\n",
       "      <td>18677895</td>\n",
       "      <td>0001</td>\n",
       "      <td>69</td>\n",
       "      <td>1</td>\n",
       "      <td>MOTO CARGA VNS</td>\n",
       "      <td>02</td>\n",
       "      <td>20210930</td>\n",
       "      <td>00</td>\n",
       "      <td>NaN</td>\n",
       "      <td>NaN</td>\n",
       "      <td>...</td>\n",
       "      <td>4625</td>\n",
       "      <td>31</td>\n",
       "      <td>87187549</td>\n",
       "      <td>NaN</td>\n",
       "      <td>NaN</td>\n",
       "      <td>NaN</td>\n",
       "      <td>NaN</td>\n",
       "      <td>valdir-ns@hotmail.com</td>\n",
       "      <td>NaN</td>\n",
       "      <td>NaN</td>\n",
       "    </tr>\n",
       "    <tr>\n",
       "      <th>4753401</th>\n",
       "      <td>18678002</td>\n",
       "      <td>0001</td>\n",
       "      <td>08</td>\n",
       "      <td>1</td>\n",
       "      <td>ESPACO RUAL</td>\n",
       "      <td>02</td>\n",
       "      <td>20130814</td>\n",
       "      <td>00</td>\n",
       "      <td>NaN</td>\n",
       "      <td>NaN</td>\n",
       "      <td>...</td>\n",
       "      <td>5371</td>\n",
       "      <td>33</td>\n",
       "      <td>88097582</td>\n",
       "      <td>33</td>\n",
       "      <td>35238741</td>\n",
       "      <td>NaN</td>\n",
       "      <td>NaN</td>\n",
       "      <td>CARLOS.LORENTZ@YAHOO.COM.BR</td>\n",
       "      <td>NaN</td>\n",
       "      <td>NaN</td>\n",
       "    </tr>\n",
       "    <tr>\n",
       "      <th>4753412</th>\n",
       "      <td>18678120</td>\n",
       "      <td>0001</td>\n",
       "      <td>08</td>\n",
       "      <td>1</td>\n",
       "      <td>SALAO BELEZA NATIVA</td>\n",
       "      <td>02</td>\n",
       "      <td>20130814</td>\n",
       "      <td>00</td>\n",
       "      <td>NaN</td>\n",
       "      <td>NaN</td>\n",
       "      <td>...</td>\n",
       "      <td>4733</td>\n",
       "      <td>32</td>\n",
       "      <td>30846807</td>\n",
       "      <td>NaN</td>\n",
       "      <td>NaN</td>\n",
       "      <td>NaN</td>\n",
       "      <td>NaN</td>\n",
       "      <td>vapmendes2012@hotmail.com</td>\n",
       "      <td>NaN</td>\n",
       "      <td>NaN</td>\n",
       "    </tr>\n",
       "    <tr>\n",
       "      <th>4753414</th>\n",
       "      <td>18678141</td>\n",
       "      <td>0001</td>\n",
       "      <td>23</td>\n",
       "      <td>1</td>\n",
       "      <td>VIA JOVEM MODAS</td>\n",
       "      <td>02</td>\n",
       "      <td>20130814</td>\n",
       "      <td>00</td>\n",
       "      <td>NaN</td>\n",
       "      <td>NaN</td>\n",
       "      <td>...</td>\n",
       "      <td>5401</td>\n",
       "      <td>34</td>\n",
       "      <td>99122930</td>\n",
       "      <td>NaN</td>\n",
       "      <td>NaN</td>\n",
       "      <td>NaN</td>\n",
       "      <td>NaN</td>\n",
       "      <td>NANDINHO_LIMA2006@HOTMAIL.COM</td>\n",
       "      <td>NaN</td>\n",
       "      <td>NaN</td>\n",
       "    </tr>\n",
       "    <tr>\n",
       "      <th>4753425</th>\n",
       "      <td>18678264</td>\n",
       "      <td>0001</td>\n",
       "      <td>64</td>\n",
       "      <td>1</td>\n",
       "      <td>GELEIRA JY</td>\n",
       "      <td>08</td>\n",
       "      <td>20160809</td>\n",
       "      <td>01</td>\n",
       "      <td>NaN</td>\n",
       "      <td>NaN</td>\n",
       "      <td>...</td>\n",
       "      <td>4733</td>\n",
       "      <td>32</td>\n",
       "      <td>32152418</td>\n",
       "      <td>NaN</td>\n",
       "      <td>NaN</td>\n",
       "      <td>NaN</td>\n",
       "      <td>NaN</td>\n",
       "      <td>suelycontabilidade01@hotmail.com</td>\n",
       "      <td>NaN</td>\n",
       "      <td>NaN</td>\n",
       "    </tr>\n",
       "  </tbody>\n",
       "</table>\n",
       "<p>5502893 rows × 30 columns</p>\n",
       "</div>"
      ],
      "text/plain": [
       "            CNPJB CNPJORD CNPJDV MATFIL                              FANTA  \\\n",
       "7        18678451    0001     48      1  OLIVER TREINAMENTOS E MANUTENCOES   \n",
       "15       18678539    0001     60      1                                NaN   \n",
       "32       18678732    0001     09      1          PSA COMERCIO DE ALIMENTOS   \n",
       "43       18678859    0001     10      1           COSTA FRANCA COMERCIO ME   \n",
       "57       18141555    0001     19      1                        ITU ASSADOS   \n",
       "...           ...     ...    ...    ...                                ...   \n",
       "4753392  18677895    0001     69      1                     MOTO CARGA VNS   \n",
       "4753401  18678002    0001     08      1                        ESPACO RUAL   \n",
       "4753412  18678120    0001     08      1                SALAO BELEZA NATIVA   \n",
       "4753414  18678141    0001     23      1                    VIA JOVEM MODAS   \n",
       "4753425  18678264    0001     64      1                         GELEIRA JY   \n",
       "\n",
       "        SITCAD DATASITCAD MOTSITCAD CIDEXT PAIS  ... MUNICÍPIO DDD1      TEL1  \\\n",
       "7           08   20180201        67    NaN  NaN  ...      4123   31  99191901   \n",
       "15          02   20130614        00    NaN  NaN  ...      5401   34  33162277   \n",
       "32          08   20141201        01    NaN  NaN  ...      4123   31  94499066   \n",
       "43          08   20131017        01    NaN  NaN  ...      5343   31  92975186   \n",
       "57          02   20130520        00    NaN  NaN  ...      4687   34  34110695   \n",
       "...        ...        ...       ...    ...  ...  ...       ...  ...       ...   \n",
       "4753392     02   20210930        00    NaN  NaN  ...      4625   31  87187549   \n",
       "4753401     02   20130814        00    NaN  NaN  ...      5371   33  88097582   \n",
       "4753412     02   20130814        00    NaN  NaN  ...      4733   32  30846807   \n",
       "4753414     02   20130814        00    NaN  NaN  ...      5401   34  99122930   \n",
       "4753425     08   20160809        01    NaN  NaN  ...      4733   32  32152418   \n",
       "\n",
       "         DDD      TEL2 DDDFAX  FAX                            E-MAIL SITESPEC  \\\n",
       "7        NaN       NaN    NaN  NaN                               NaN      NaN   \n",
       "15       NaN       NaN    NaN  NaN         CND.CONTAS@NETSITE.COM.BR      NaN   \n",
       "32       NaN       NaN    NaN  NaN                               NaN      NaN   \n",
       "43       NaN       NaN    NaN  NaN      anaclaudiafranca@hotmail.com      NaN   \n",
       "57       NaN       NaN    NaN  NaN      contajuridico@netsite.oom.br      NaN   \n",
       "...      ...       ...    ...  ...                               ...      ...   \n",
       "4753392  NaN       NaN    NaN  NaN             valdir-ns@hotmail.com      NaN   \n",
       "4753401   33  35238741    NaN  NaN       CARLOS.LORENTZ@YAHOO.COM.BR      NaN   \n",
       "4753412  NaN       NaN    NaN  NaN         vapmendes2012@hotmail.com      NaN   \n",
       "4753414  NaN       NaN    NaN  NaN     NANDINHO_LIMA2006@HOTMAIL.COM      NaN   \n",
       "4753425  NaN       NaN    NaN  NaN  suelycontabilidade01@hotmail.com      NaN   \n",
       "\n",
       "        DATASITESPEC  \n",
       "7                NaN  \n",
       "15               NaN  \n",
       "32               NaN  \n",
       "43               NaN  \n",
       "57               NaN  \n",
       "...              ...  \n",
       "4753392          NaN  \n",
       "4753401          NaN  \n",
       "4753412          NaN  \n",
       "4753414          NaN  \n",
       "4753425          NaN  \n",
       "\n",
       "[5502893 rows x 30 columns]"
      ]
     },
     "execution_count": 35,
     "metadata": {},
     "output_type": "execute_result"
    }
   ],
   "source": [
    "EstabMG"
   ]
  },
  {
   "cell_type": "markdown",
   "id": "2a4b8a7a",
   "metadata": {},
   "source": [
    "# Importar arquivo das Empresas"
   ]
  },
  {
   "cell_type": "code",
   "execution_count": null,
   "id": "574d3f6c",
   "metadata": {},
   "outputs": [],
   "source": [
    "Empre1 = pd.read_csv (\"K3241.K03200Y0.D11009.EMPRE.CSV\",\n",
    "                         header = None, sep=\";\", encoding='ISO-8859-1', dtype='unicode') #Importar o arquivo"
   ]
  },
  {
   "cell_type": "code",
   "execution_count": null,
   "id": "fe194490",
   "metadata": {},
   "outputs": [],
   "source": [
    "Empre2 = pd.read_csv (\"K3241.K03200Y1.D11009.EMPRE.CSV\",\n",
    "                         header = None, sep=\";\", encoding='ISO-8859-1', dtype='unicode') #Importar o arquivo"
   ]
  },
  {
   "cell_type": "code",
   "execution_count": null,
   "id": "8a1f8166",
   "metadata": {},
   "outputs": [],
   "source": [
    "Empre3 = pd.read_csv (\"K3241.K03200Y2.D11009.EMPRE.CSV\",\n",
    "                         header = None, sep=\";\", encoding='ISO-8859-1', dtype='unicode') #Importar o arquivo"
   ]
  },
  {
   "cell_type": "code",
   "execution_count": null,
   "id": "4c0e561f",
   "metadata": {},
   "outputs": [],
   "source": [
    "Empre4 = pd.read_csv (\"K3241.K03200Y3.D11009.EMPRE.CSV\",\n",
    "                         header = None, sep=\";\", encoding='ISO-8859-1', dtype='unicode') #Importar o arquivo"
   ]
  },
  {
   "cell_type": "code",
   "execution_count": null,
   "id": "bd8b050d",
   "metadata": {},
   "outputs": [],
   "source": [
    "Empre5 = pd.read_csv (\"K3241.K03200Y4.D11009.EMPRE.CSV\",\n",
    "                         header = None, sep=\";\", encoding='ISO-8859-1', dtype='unicode') #Importar o arquivo"
   ]
  },
  {
   "cell_type": "code",
   "execution_count": null,
   "id": "365882e5",
   "metadata": {},
   "outputs": [],
   "source": [
    "Empre6 = pd.read_csv (\"K3241.K03200Y5.D11009.EMPRE.CSV\",\n",
    "                         header = None, sep=\";\", encoding='ISO-8859-1', dtype='unicode') #Importar o arquivo"
   ]
  },
  {
   "cell_type": "code",
   "execution_count": null,
   "id": "c58bc13b",
   "metadata": {},
   "outputs": [],
   "source": [
    "Empre7 = pd.read_csv (\"K3241.K03200Y6.D11009.EMPRE.CSV\",\n",
    "                         header = None, sep=\";\", encoding='ISO-8859-1', dtype='unicode') #Importar o arquivo"
   ]
  },
  {
   "cell_type": "code",
   "execution_count": null,
   "id": "f18366f1",
   "metadata": {},
   "outputs": [],
   "source": [
    "Empre8 = pd.read_csv (\"K3241.K03200Y7.D11009.EMPRE.CSV\",\n",
    "                         header = None, sep=\";\", encoding='ISO-8859-1', dtype='unicode') #Importar o arquivo"
   ]
  },
  {
   "cell_type": "code",
   "execution_count": null,
   "id": "281a63b4",
   "metadata": {},
   "outputs": [],
   "source": [
    "Empre9 = pd.read_csv (\"K3241.K03200Y8.D11009.EMPRE.CSV\",\n",
    "                         header = None, sep=\";\", encoding='ISO-8859-1', dtype='unicode') #Importar o arquivo"
   ]
  },
  {
   "cell_type": "code",
   "execution_count": null,
   "id": "59712873",
   "metadata": {},
   "outputs": [],
   "source": [
    "Empre10 = pd.read_csv (\"K3241.K03200Y9.D11009.EMPRE.CSV\",\n",
    "                         header = None, sep=\";\", encoding='ISO-8859-1', dtype='unicode') #Importar o arquivo"
   ]
  },
  {
   "cell_type": "code",
   "execution_count": null,
   "id": "6d7c645a",
   "metadata": {},
   "outputs": [],
   "source": [
    "Empresas = pd.concat([Empre1, Empre2, Empre3, Empre4, Empre5, Empre6, Empre7, Empre8, Empre9, Empre10])"
   ]
  },
  {
   "cell_type": "code",
   "execution_count": null,
   "id": "bd65ac77",
   "metadata": {},
   "outputs": [],
   "source": [
    "Empresas.columns = ['CNPJB', 'RAZAOSOCIAL', 'NATURJUR', 'QUALIFC', 'CAPITALSOCIAL', 'PORTE', \n",
    "                   'ENTEFEDERADO']"
   ]
  },
  {
   "cell_type": "code",
   "execution_count": null,
   "id": "6b10f3df",
   "metadata": {},
   "outputs": [],
   "source": [
    "Empresas.to_csv('Empresas.csv', index=True, sep=\";\")"
   ]
  },
  {
   "cell_type": "code",
   "execution_count": null,
   "id": "5454b2ba",
   "metadata": {},
   "outputs": [],
   "source": [
    "Empresas"
   ]
  },
  {
   "cell_type": "markdown",
   "id": "24fa3e06",
   "metadata": {},
   "source": [
    "# Importar arquivo dos Sócios"
   ]
  },
  {
   "cell_type": "code",
   "execution_count": null,
   "id": "c1b3b409",
   "metadata": {},
   "outputs": [],
   "source": [
    "Socios1 = pd.read_csv (\"K3241.K03200Y0.D11009.SOCIO.CSV\",\n",
    "                         header = None, sep=\";\", encoding='ISO-8859-1', dtype='unicode') #Importar o arquivo"
   ]
  },
  {
   "cell_type": "code",
   "execution_count": null,
   "id": "1cb5ca56",
   "metadata": {},
   "outputs": [],
   "source": [
    "Socios2 = pd.read_csv (\"K3241.K03200Y1.D11009.SOCIO.CSV\",\n",
    "                         header = None, sep=\";\", encoding='ISO-8859-1', dtype='unicode') #Importar o arquivo"
   ]
  },
  {
   "cell_type": "code",
   "execution_count": null,
   "id": "165ef228",
   "metadata": {},
   "outputs": [],
   "source": [
    "Socios3 = pd.read_csv (\"K3241.K03200Y2.D11009.SOCIO.CSV\",\n",
    "                         header = None, sep=\";\", encoding='ISO-8859-1', dtype='unicode') #Importar o arquivo"
   ]
  },
  {
   "cell_type": "code",
   "execution_count": null,
   "id": "7772ec17",
   "metadata": {},
   "outputs": [],
   "source": [
    "Socios4 = pd.read_csv (\"K3241.K03200Y3.D11009.SOCIO.CSV\",\n",
    "                         header = None, sep=\";\", encoding='ISO-8859-1', dtype='unicode') #Importar o arquivo"
   ]
  },
  {
   "cell_type": "code",
   "execution_count": null,
   "id": "83612953",
   "metadata": {},
   "outputs": [],
   "source": [
    "Socios5 = pd.read_csv (\"K3241.K03200Y4.D11009.SOCIO.CSV\",\n",
    "                         header = None, sep=\";\", encoding='ISO-8859-1', dtype='unicode') #Importar o arquivo"
   ]
  },
  {
   "cell_type": "code",
   "execution_count": null,
   "id": "08aa67f1",
   "metadata": {},
   "outputs": [],
   "source": [
    "Socios6 = pd.read_csv (\"K3241.K03200Y5.D11009.SOCIO.CSV\",\n",
    "                         header = None, sep=\";\", encoding='ISO-8859-1', dtype='unicode') #Importar o arquivo"
   ]
  },
  {
   "cell_type": "code",
   "execution_count": null,
   "id": "cbe3a301",
   "metadata": {},
   "outputs": [],
   "source": [
    "Socios7 = pd.read_csv (\"K3241.K03200Y6.D11009.SOCIO.CSV\",\n",
    "                         header = None, sep=\";\", encoding='ISO-8859-1', dtype='unicode') #Importar o arquivo"
   ]
  },
  {
   "cell_type": "code",
   "execution_count": null,
   "id": "a5e6b891",
   "metadata": {},
   "outputs": [],
   "source": [
    "Socios8 = pd.read_csv (\"K3241.K03200Y7.D11009.SOCIO.CSV\",\n",
    "                         header = None, sep=\";\", encoding='ISO-8859-1', dtype='unicode') #Importar o arquivo"
   ]
  },
  {
   "cell_type": "code",
   "execution_count": null,
   "id": "01a1e035",
   "metadata": {},
   "outputs": [],
   "source": [
    "Socios9 = pd.read_csv (\"K3241.K03200Y8.D11009.SOCIO.CSV\",\n",
    "                         header = None, sep=\";\", encoding='ISO-8859-1', dtype='unicode') #Importar o arquivo"
   ]
  },
  {
   "cell_type": "code",
   "execution_count": null,
   "id": "1d161e93",
   "metadata": {},
   "outputs": [],
   "source": [
    "Socios10 = pd.read_csv (\"K3241.K03200Y9.D11009.SOCIO.CSV\",\n",
    "                         header = None, sep=\";\", encoding='ISO-8859-1', dtype='unicode') #Importar o arquivo"
   ]
  },
  {
   "cell_type": "code",
   "execution_count": null,
   "id": "3e34043d",
   "metadata": {},
   "outputs": [],
   "source": [
    "SociosBR = pd.concat([Socios1, Socios2, Socios3, Socios4, Socios5, Socios6, Socios7, Socios8, Socios9, Socios10])"
   ]
  },
  {
   "cell_type": "code",
   "execution_count": null,
   "id": "d3577606",
   "metadata": {},
   "outputs": [],
   "source": [
    "SociosBR.columns = ['CNPJB', 'IDENTSOCIO', 'NOMESOCIO', 'CNPJCPFSOCIO', 'QUALIFCSOCIO', 'DATAENTRADASOCIEDADE', \n",
    "                   'PAIS', 'REPRESLEGAL', 'NOMEREPRES', 'QUALIFICREPRE', 'FAIXAETARIA']"
   ]
  },
  {
   "cell_type": "code",
   "execution_count": null,
   "id": "9f76513c",
   "metadata": {},
   "outputs": [],
   "source": [
    "SociosBR.to_csv('Socios.csv', index=True, sep=\";\")"
   ]
  },
  {
   "cell_type": "code",
   "execution_count": null,
   "id": "420ee001",
   "metadata": {},
   "outputs": [],
   "source": [
    "SociosBR"
   ]
  },
  {
   "cell_type": "markdown",
   "id": "5d8c76b0",
   "metadata": {},
   "source": [
    "# Importar dados Simples Nacional e MEI"
   ]
  },
  {
   "cell_type": "code",
   "execution_count": null,
   "id": "a4b20371",
   "metadata": {},
   "outputs": [],
   "source": [
    "Simples = pd.read_csv (\"F.K03200$W.SIMPLES.CSV.D11009.CSV\",\n",
    "                         header = None, sep=\";\", encoding='ISO-8859-1', dtype='unicode') #Importar o arquivo"
   ]
  },
  {
   "cell_type": "code",
   "execution_count": null,
   "id": "a327be09",
   "metadata": {},
   "outputs": [],
   "source": [
    "Simples.columns = ['CNPJB', 'OPCAOSIMPLES', 'DATAOPCAO', 'DATAEXCLUSAO', 'OPCAOMEI', 'DATAOPCAOMEI', \n",
    "                   'DATAEXCLUSAOMEI']"
   ]
  },
  {
   "cell_type": "code",
   "execution_count": null,
   "id": "93bcd57e",
   "metadata": {},
   "outputs": [],
   "source": [
    "Simples.to_csv('Simples.csv', index=True, sep=\";\")"
   ]
  }
 ],
 "metadata": {
  "kernelspec": {
   "display_name": "Python 3",
   "language": "python",
   "name": "python3"
  },
  "language_info": {
   "codemirror_mode": {
    "name": "ipython",
    "version": 3
   },
   "file_extension": ".py",
   "mimetype": "text/x-python",
   "name": "python",
   "nbconvert_exporter": "python",
   "pygments_lexer": "ipython3",
   "version": "3.8.8"
  }
 },
 "nbformat": 4,
 "nbformat_minor": 5
}

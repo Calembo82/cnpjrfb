{
 "cells": [
  {
   "cell_type": "markdown",
   "id": "51af289a",
   "metadata": {},
   "source": [
    "# Base de Empresas Minas Gerais (CNPJ)"
   ]
  },
  {
   "cell_type": "code",
   "execution_count": 1,
   "id": "e3725922",
   "metadata": {},
   "outputs": [],
   "source": [
    "import pandas as pd #Ativar pacotes\n",
    "import matplotlib.pyplot as plt\n",
    "import numpy as np\n",
    "import seaborn as sns\n",
    "%matplotlib inline"
   ]
  },
  {
   "cell_type": "markdown",
   "id": "dd0c4c05",
   "metadata": {},
   "source": [
    "## Importar e filtrar arquivo dos Estabelecimentos de Teófilo Otoni"
   ]
  },
  {
   "cell_type": "markdown",
   "id": "9253b1aa",
   "metadata": {},
   "source": [
    "### Estabelecimentos"
   ]
  },
  {
   "cell_type": "code",
   "execution_count": null,
   "id": "fc19a482",
   "metadata": {},
   "outputs": [],
   "source": [
    "EstabMG = pd.read_csv (\"EstabelecimentosMG.csv\",\n",
    "                     sep=\";\", encoding='ISO-8859-1', dtype='unicode') #Importar o arquivo"
   ]
  },
  {
   "cell_type": "code",
   "execution_count": null,
   "id": "80a58dfd",
   "metadata": {},
   "outputs": [],
   "source": [
    "EstabMG.columns = ['linha', 'CNPJB', 'CNPJORD', 'CNPJDV', 'MATFIL', 'FANTA', 'SITCAD', \n",
    "                   'DATASITCAD', 'MOTSITCAD', 'CIDEXT', 'PAIS', 'DATAINICIO', \n",
    "                   'CNAEP', 'CNAESEC', 'TLOGRAD', 'LOGRADOURO', 'NUMERO', \n",
    "                   'COMPLEMENTO', 'BAIRRO', 'CEP', 'UF', 'MUNICIPIO', 'DDD1', \n",
    "                   'TEL1', 'DDD', 'TEL2', 'DDDFAX', 'FAX', 'E-MAIL', 'SITESPEC', 'DATASITESPEC']"
   ]
  },
  {
   "cell_type": "code",
   "execution_count": null,
   "id": "64db2847",
   "metadata": {},
   "outputs": [],
   "source": [
    "EstabTEO = EstabMG.loc[EstabMG['MUNICIPIO']==\"5371\"] #Filtro (Teófilo Otoni - 5371)"
   ]
  },
  {
   "cell_type": "code",
   "execution_count": null,
   "id": "e3dab53f",
   "metadata": {},
   "outputs": [],
   "source": [
    "EstabTEOativas = EstabTEO.loc[EstabTEO['SITCAD']==\"02\"] #Filtro (Empresas Ativas - 02)"
   ]
  },
  {
   "cell_type": "code",
   "execution_count": null,
   "id": "84621d63",
   "metadata": {},
   "outputs": [],
   "source": [
    "EstabTEOativas"
   ]
  },
  {
   "cell_type": "markdown",
   "id": "fb85232e",
   "metadata": {},
   "source": [
    "### Empresas"
   ]
  },
  {
   "cell_type": "code",
   "execution_count": null,
   "id": "47ca593e",
   "metadata": {},
   "outputs": [],
   "source": [
    "Empresas = pd.read_csv (\"Empresas.csv\",\n",
    "                         sep=\";\", encoding='ISO-8859-1', dtype='unicode') #Importar o arquivo"
   ]
  },
  {
   "cell_type": "code",
   "execution_count": null,
   "id": "7041aa27",
   "metadata": {
    "scrolled": true
   },
   "outputs": [],
   "source": [
    "Empresas"
   ]
  },
  {
   "cell_type": "markdown",
   "id": "a43da36c",
   "metadata": {},
   "source": [
    "### Junção"
   ]
  },
  {
   "cell_type": "code",
   "execution_count": null,
   "id": "772aedd2",
   "metadata": {},
   "outputs": [],
   "source": [
    "EstabempTeo = pd.merge(EstabTEOativas, Empresas, on=['CNPJB'], how='left')"
   ]
  },
  {
   "cell_type": "code",
   "execution_count": null,
   "id": "18d6257b",
   "metadata": {
    "scrolled": true
   },
   "outputs": [],
   "source": [
    "EstabempTeo"
   ]
  },
  {
   "cell_type": "code",
   "execution_count": null,
   "id": "4bd0d34b",
   "metadata": {},
   "outputs": [],
   "source": [
    "EstabempTeo.to_csv('EstabempTeo.csv', index=True, sep=\";\")"
   ]
  },
  {
   "cell_type": "markdown",
   "id": "45f3f15e",
   "metadata": {},
   "source": [
    "### Simples"
   ]
  },
  {
   "cell_type": "code",
   "execution_count": 2,
   "id": "980a3791",
   "metadata": {},
   "outputs": [],
   "source": [
    "Simples = pd.read_csv (\"Simples.csv\",\n",
    "                         sep=\";\", encoding='ISO-8859-1', dtype='unicode') #Importar o arquivo"
   ]
  },
  {
   "cell_type": "code",
   "execution_count": null,
   "id": "2bce8622",
   "metadata": {},
   "outputs": [],
   "source": [
    "EstabempTeosimples = pd.merge(EstabempTeo, Simples, on=['CNPJB'], how='left')"
   ]
  },
  {
   "cell_type": "code",
   "execution_count": null,
   "id": "7530c10b",
   "metadata": {},
   "outputs": [],
   "source": [
    "EstabempTeosimples.to_csv('EstabempTeosimples.csv', index=True, sep=\";\")"
   ]
  },
  {
   "cell_type": "code",
   "execution_count": null,
   "id": "97bba82a",
   "metadata": {},
   "outputs": [],
   "source": [
    "EstabempTeosimples"
   ]
  },
  {
   "cell_type": "code",
   "execution_count": 3,
   "id": "16fce6f6",
   "metadata": {},
   "outputs": [],
   "source": [
    "EstabempTeosimples = pd.read_csv (\"EstabempTeosimples.csv\",\n",
    "                         sep=\";\", encoding='ISO-8859-1', dtype='unicode') #Importar o arquivo"
   ]
  },
  {
   "cell_type": "code",
   "execution_count": 3,
   "id": "8011ac22",
   "metadata": {},
   "outputs": [],
   "source": [
    "del Simples"
   ]
  },
  {
   "cell_type": "markdown",
   "id": "29e1aea1",
   "metadata": {},
   "source": [
    "### Sócios"
   ]
  },
  {
   "cell_type": "code",
   "execution_count": 2,
   "id": "b84273ac",
   "metadata": {},
   "outputs": [],
   "source": [
    "Socios = pd.read_csv (\"Socios.csv\",\n",
    "                         sep=\";\", encoding='ISO-8859-1', dtype='unicode') #Importar o arquivo"
   ]
  },
  {
   "cell_type": "code",
   "execution_count": 8,
   "id": "70b3bf47",
   "metadata": {},
   "outputs": [],
   "source": [
    "SociosEmpTeo = pd.merge(Socios, EstabempTeosimples, on=['CNPJB'], how='inner')"
   ]
  },
  {
   "cell_type": "code",
   "execution_count": 10,
   "id": "d3244493",
   "metadata": {},
   "outputs": [],
   "source": [
    "SociosEmpTeo.to_csv('SociosEmpTeo.csv', index=True, sep=\";\")"
   ]
  },
  {
   "cell_type": "code",
   "execution_count": 9,
   "id": "78928989",
   "metadata": {},
   "outputs": [
    {
     "data": {
      "text/html": [
       "<div>\n",
       "<style scoped>\n",
       "    .dataframe tbody tr th:only-of-type {\n",
       "        vertical-align: middle;\n",
       "    }\n",
       "\n",
       "    .dataframe tbody tr th {\n",
       "        vertical-align: top;\n",
       "    }\n",
       "\n",
       "    .dataframe thead th {\n",
       "        text-align: right;\n",
       "    }\n",
       "</style>\n",
       "<table border=\"1\" class=\"dataframe\">\n",
       "  <thead>\n",
       "    <tr style=\"text-align: right;\">\n",
       "      <th></th>\n",
       "      <th>Unnamed: 0_x</th>\n",
       "      <th>CNPJB</th>\n",
       "      <th>IDENTSOCIO</th>\n",
       "      <th>NOMESOCIO</th>\n",
       "      <th>CNPJCPFSOCIO</th>\n",
       "      <th>QUALIFCSOCIO</th>\n",
       "      <th>DATAENTRADASOCIEDADE</th>\n",
       "      <th>PAIS_x</th>\n",
       "      <th>REPRESLEGAL</th>\n",
       "      <th>NOMEREPRES</th>\n",
       "      <th>...</th>\n",
       "      <th>CAPITALSOCIAL</th>\n",
       "      <th>PORTE</th>\n",
       "      <th>ENTEFEDERADO</th>\n",
       "      <th>Unnamed: 0_y</th>\n",
       "      <th>OPCAOSIMPLES</th>\n",
       "      <th>DATAOPCAO</th>\n",
       "      <th>DATAEXCLUSAO</th>\n",
       "      <th>OPCAOMEI</th>\n",
       "      <th>DATAOPCAOMEI</th>\n",
       "      <th>DATAEXCLUSAOMEI</th>\n",
       "    </tr>\n",
       "  </thead>\n",
       "  <tbody>\n",
       "    <tr>\n",
       "      <th>0</th>\n",
       "      <td>1109</td>\n",
       "      <td>18588555</td>\n",
       "      <td>2</td>\n",
       "      <td>GILSON BATISTA SILVA</td>\n",
       "      <td>***729046**</td>\n",
       "      <td>49</td>\n",
       "      <td>20130731</td>\n",
       "      <td>NaN</td>\n",
       "      <td>***000000**</td>\n",
       "      <td>NaN</td>\n",
       "      <td>...</td>\n",
       "      <td>6000,00</td>\n",
       "      <td>03</td>\n",
       "      <td>NaN</td>\n",
       "      <td>8870389</td>\n",
       "      <td>S</td>\n",
       "      <td>20180101</td>\n",
       "      <td>00000000</td>\n",
       "      <td>N</td>\n",
       "      <td>00000000</td>\n",
       "      <td>00000000</td>\n",
       "    </tr>\n",
       "    <tr>\n",
       "      <th>1</th>\n",
       "      <td>6605</td>\n",
       "      <td>18748747</td>\n",
       "      <td>2</td>\n",
       "      <td>FERNANDO HENRIQUE AMARAL SOUZA</td>\n",
       "      <td>***913286**</td>\n",
       "      <td>49</td>\n",
       "      <td>20130826</td>\n",
       "      <td>NaN</td>\n",
       "      <td>***000000**</td>\n",
       "      <td>NaN</td>\n",
       "      <td>...</td>\n",
       "      <td>300000,00</td>\n",
       "      <td>01</td>\n",
       "      <td>NaN</td>\n",
       "      <td>8998960</td>\n",
       "      <td>S</td>\n",
       "      <td>20130826</td>\n",
       "      <td>00000000</td>\n",
       "      <td>N</td>\n",
       "      <td>00000000</td>\n",
       "      <td>00000000</td>\n",
       "    </tr>\n",
       "    <tr>\n",
       "      <th>2</th>\n",
       "      <td>6606</td>\n",
       "      <td>18748747</td>\n",
       "      <td>2</td>\n",
       "      <td>JOSE RENOBIO DE SOUZA</td>\n",
       "      <td>***104786**</td>\n",
       "      <td>22</td>\n",
       "      <td>20130826</td>\n",
       "      <td>NaN</td>\n",
       "      <td>***000000**</td>\n",
       "      <td>NaN</td>\n",
       "      <td>...</td>\n",
       "      <td>300000,00</td>\n",
       "      <td>01</td>\n",
       "      <td>NaN</td>\n",
       "      <td>8998960</td>\n",
       "      <td>S</td>\n",
       "      <td>20130826</td>\n",
       "      <td>00000000</td>\n",
       "      <td>N</td>\n",
       "      <td>00000000</td>\n",
       "      <td>00000000</td>\n",
       "    </tr>\n",
       "    <tr>\n",
       "      <th>3</th>\n",
       "      <td>6607</td>\n",
       "      <td>18748747</td>\n",
       "      <td>2</td>\n",
       "      <td>TANURE AMARAL SOUZA</td>\n",
       "      <td>***561786**</td>\n",
       "      <td>22</td>\n",
       "      <td>20130826</td>\n",
       "      <td>NaN</td>\n",
       "      <td>***000000**</td>\n",
       "      <td>NaN</td>\n",
       "      <td>...</td>\n",
       "      <td>300000,00</td>\n",
       "      <td>01</td>\n",
       "      <td>NaN</td>\n",
       "      <td>8998960</td>\n",
       "      <td>S</td>\n",
       "      <td>20130826</td>\n",
       "      <td>00000000</td>\n",
       "      <td>N</td>\n",
       "      <td>00000000</td>\n",
       "      <td>00000000</td>\n",
       "    </tr>\n",
       "    <tr>\n",
       "      <th>4</th>\n",
       "      <td>27377</td>\n",
       "      <td>15484024</td>\n",
       "      <td>2</td>\n",
       "      <td>FLAVIO AMARAL DOS SANTOS</td>\n",
       "      <td>***336546**</td>\n",
       "      <td>49</td>\n",
       "      <td>20211006</td>\n",
       "      <td>NaN</td>\n",
       "      <td>***000000**</td>\n",
       "      <td>NaN</td>\n",
       "      <td>...</td>\n",
       "      <td>50000,00</td>\n",
       "      <td>01</td>\n",
       "      <td>NaN</td>\n",
       "      <td>6918722</td>\n",
       "      <td>S</td>\n",
       "      <td>20190101</td>\n",
       "      <td>00000000</td>\n",
       "      <td>N</td>\n",
       "      <td>00000000</td>\n",
       "      <td>00000000</td>\n",
       "    </tr>\n",
       "    <tr>\n",
       "      <th>...</th>\n",
       "      <td>...</td>\n",
       "      <td>...</td>\n",
       "      <td>...</td>\n",
       "      <td>...</td>\n",
       "      <td>...</td>\n",
       "      <td>...</td>\n",
       "      <td>...</td>\n",
       "      <td>...</td>\n",
       "      <td>...</td>\n",
       "      <td>...</td>\n",
       "      <td>...</td>\n",
       "      <td>...</td>\n",
       "      <td>...</td>\n",
       "      <td>...</td>\n",
       "      <td>...</td>\n",
       "      <td>...</td>\n",
       "      <td>...</td>\n",
       "      <td>...</td>\n",
       "      <td>...</td>\n",
       "      <td>...</td>\n",
       "      <td>...</td>\n",
       "    </tr>\n",
       "    <tr>\n",
       "      <th>8043</th>\n",
       "      <td>2006337</td>\n",
       "      <td>15565626</td>\n",
       "      <td>2</td>\n",
       "      <td>CELIA MARIA ALMEIDA MOTA</td>\n",
       "      <td>***852646**</td>\n",
       "      <td>22</td>\n",
       "      <td>20120521</td>\n",
       "      <td>NaN</td>\n",
       "      <td>***000000**</td>\n",
       "      <td>NaN</td>\n",
       "      <td>...</td>\n",
       "      <td>20000,00</td>\n",
       "      <td>01</td>\n",
       "      <td>NaN</td>\n",
       "      <td>6981750</td>\n",
       "      <td>S</td>\n",
       "      <td>20150101</td>\n",
       "      <td>00000000</td>\n",
       "      <td>N</td>\n",
       "      <td>00000000</td>\n",
       "      <td>00000000</td>\n",
       "    </tr>\n",
       "    <tr>\n",
       "      <th>8044</th>\n",
       "      <td>2008419</td>\n",
       "      <td>17371058</td>\n",
       "      <td>2</td>\n",
       "      <td>DANIEL MOREIRA PINTO</td>\n",
       "      <td>***060796**</td>\n",
       "      <td>22</td>\n",
       "      <td>20121213</td>\n",
       "      <td>NaN</td>\n",
       "      <td>***000000**</td>\n",
       "      <td>NaN</td>\n",
       "      <td>...</td>\n",
       "      <td>1000,00</td>\n",
       "      <td>01</td>\n",
       "      <td>NaN</td>\n",
       "      <td>NaN</td>\n",
       "      <td>NaN</td>\n",
       "      <td>NaN</td>\n",
       "      <td>NaN</td>\n",
       "      <td>NaN</td>\n",
       "      <td>NaN</td>\n",
       "      <td>NaN</td>\n",
       "    </tr>\n",
       "    <tr>\n",
       "      <th>8045</th>\n",
       "      <td>2008420</td>\n",
       "      <td>17371058</td>\n",
       "      <td>2</td>\n",
       "      <td>VANIA SOARES DE OLIVEIRA E ALMEIDA PINTO</td>\n",
       "      <td>***103818**</td>\n",
       "      <td>22</td>\n",
       "      <td>20121213</td>\n",
       "      <td>NaN</td>\n",
       "      <td>***000000**</td>\n",
       "      <td>NaN</td>\n",
       "      <td>...</td>\n",
       "      <td>1000,00</td>\n",
       "      <td>01</td>\n",
       "      <td>NaN</td>\n",
       "      <td>NaN</td>\n",
       "      <td>NaN</td>\n",
       "      <td>NaN</td>\n",
       "      <td>NaN</td>\n",
       "      <td>NaN</td>\n",
       "      <td>NaN</td>\n",
       "      <td>NaN</td>\n",
       "    </tr>\n",
       "    <tr>\n",
       "      <th>8046</th>\n",
       "      <td>2008421</td>\n",
       "      <td>17371058</td>\n",
       "      <td>2</td>\n",
       "      <td>JACKSON GOMES PINTO</td>\n",
       "      <td>***723756**</td>\n",
       "      <td>49</td>\n",
       "      <td>20160517</td>\n",
       "      <td>NaN</td>\n",
       "      <td>***000000**</td>\n",
       "      <td>NaN</td>\n",
       "      <td>...</td>\n",
       "      <td>1000,00</td>\n",
       "      <td>01</td>\n",
       "      <td>NaN</td>\n",
       "      <td>NaN</td>\n",
       "      <td>NaN</td>\n",
       "      <td>NaN</td>\n",
       "      <td>NaN</td>\n",
       "      <td>NaN</td>\n",
       "      <td>NaN</td>\n",
       "      <td>NaN</td>\n",
       "    </tr>\n",
       "    <tr>\n",
       "      <th>8047</th>\n",
       "      <td>2015687</td>\n",
       "      <td>11773963</td>\n",
       "      <td>2</td>\n",
       "      <td>NILVA APARECIDA CHAGAS GUIDA</td>\n",
       "      <td>***930376**</td>\n",
       "      <td>65</td>\n",
       "      <td>20100405</td>\n",
       "      <td>NaN</td>\n",
       "      <td>***000000**</td>\n",
       "      <td>NaN</td>\n",
       "      <td>...</td>\n",
       "      <td>110000,00</td>\n",
       "      <td>03</td>\n",
       "      <td>NaN</td>\n",
       "      <td>4078538</td>\n",
       "      <td>S</td>\n",
       "      <td>20170101</td>\n",
       "      <td>00000000</td>\n",
       "      <td>N</td>\n",
       "      <td>00000000</td>\n",
       "      <td>00000000</td>\n",
       "    </tr>\n",
       "  </tbody>\n",
       "</table>\n",
       "<p>8048 rows × 57 columns</p>\n",
       "</div>"
      ],
      "text/plain": [
       "     Unnamed: 0_x     CNPJB IDENTSOCIO  \\\n",
       "0            1109  18588555          2   \n",
       "1            6605  18748747          2   \n",
       "2            6606  18748747          2   \n",
       "3            6607  18748747          2   \n",
       "4           27377  15484024          2   \n",
       "...           ...       ...        ...   \n",
       "8043      2006337  15565626          2   \n",
       "8044      2008419  17371058          2   \n",
       "8045      2008420  17371058          2   \n",
       "8046      2008421  17371058          2   \n",
       "8047      2015687  11773963          2   \n",
       "\n",
       "                                     NOMESOCIO CNPJCPFSOCIO QUALIFCSOCIO  \\\n",
       "0                         GILSON BATISTA SILVA  ***729046**           49   \n",
       "1               FERNANDO HENRIQUE AMARAL SOUZA  ***913286**           49   \n",
       "2                        JOSE RENOBIO DE SOUZA  ***104786**           22   \n",
       "3                          TANURE AMARAL SOUZA  ***561786**           22   \n",
       "4                     FLAVIO AMARAL DOS SANTOS  ***336546**           49   \n",
       "...                                        ...          ...          ...   \n",
       "8043                  CELIA MARIA ALMEIDA MOTA  ***852646**           22   \n",
       "8044                      DANIEL MOREIRA PINTO  ***060796**           22   \n",
       "8045  VANIA SOARES DE OLIVEIRA E ALMEIDA PINTO  ***103818**           22   \n",
       "8046                       JACKSON GOMES PINTO  ***723756**           49   \n",
       "8047              NILVA APARECIDA CHAGAS GUIDA  ***930376**           65   \n",
       "\n",
       "     DATAENTRADASOCIEDADE PAIS_x  REPRESLEGAL NOMEREPRES  ... CAPITALSOCIAL  \\\n",
       "0                20130731    NaN  ***000000**        NaN  ...       6000,00   \n",
       "1                20130826    NaN  ***000000**        NaN  ...     300000,00   \n",
       "2                20130826    NaN  ***000000**        NaN  ...     300000,00   \n",
       "3                20130826    NaN  ***000000**        NaN  ...     300000,00   \n",
       "4                20211006    NaN  ***000000**        NaN  ...      50000,00   \n",
       "...                   ...    ...          ...        ...  ...           ...   \n",
       "8043             20120521    NaN  ***000000**        NaN  ...      20000,00   \n",
       "8044             20121213    NaN  ***000000**        NaN  ...       1000,00   \n",
       "8045             20121213    NaN  ***000000**        NaN  ...       1000,00   \n",
       "8046             20160517    NaN  ***000000**        NaN  ...       1000,00   \n",
       "8047             20100405    NaN  ***000000**        NaN  ...     110000,00   \n",
       "\n",
       "     PORTE ENTEFEDERADO Unnamed: 0_y OPCAOSIMPLES DATAOPCAO DATAEXCLUSAO  \\\n",
       "0       03          NaN      8870389            S  20180101     00000000   \n",
       "1       01          NaN      8998960            S  20130826     00000000   \n",
       "2       01          NaN      8998960            S  20130826     00000000   \n",
       "3       01          NaN      8998960            S  20130826     00000000   \n",
       "4       01          NaN      6918722            S  20190101     00000000   \n",
       "...    ...          ...          ...          ...       ...          ...   \n",
       "8043    01          NaN      6981750            S  20150101     00000000   \n",
       "8044    01          NaN          NaN          NaN       NaN          NaN   \n",
       "8045    01          NaN          NaN          NaN       NaN          NaN   \n",
       "8046    01          NaN          NaN          NaN       NaN          NaN   \n",
       "8047    03          NaN      4078538            S  20170101     00000000   \n",
       "\n",
       "     OPCAOMEI DATAOPCAOMEI DATAEXCLUSAOMEI  \n",
       "0           N     00000000        00000000  \n",
       "1           N     00000000        00000000  \n",
       "2           N     00000000        00000000  \n",
       "3           N     00000000        00000000  \n",
       "4           N     00000000        00000000  \n",
       "...       ...          ...             ...  \n",
       "8043        N     00000000        00000000  \n",
       "8044      NaN          NaN             NaN  \n",
       "8045      NaN          NaN             NaN  \n",
       "8046      NaN          NaN             NaN  \n",
       "8047        N     00000000        00000000  \n",
       "\n",
       "[8048 rows x 57 columns]"
      ]
     },
     "execution_count": 9,
     "metadata": {},
     "output_type": "execute_result"
    }
   ],
   "source": [
    "SociosEmpTeo"
   ]
  },
  {
   "cell_type": "code",
   "execution_count": null,
   "id": "18d6258f",
   "metadata": {},
   "outputs": [],
   "source": []
  }
 ],
 "metadata": {
  "kernelspec": {
   "display_name": "Python 3",
   "language": "python",
   "name": "python3"
  },
  "language_info": {
   "codemirror_mode": {
    "name": "ipython",
    "version": 3
   },
   "file_extension": ".py",
   "mimetype": "text/x-python",
   "name": "python",
   "nbconvert_exporter": "python",
   "pygments_lexer": "ipython3",
   "version": "3.8.8"
  }
 },
 "nbformat": 4,
 "nbformat_minor": 5
}
